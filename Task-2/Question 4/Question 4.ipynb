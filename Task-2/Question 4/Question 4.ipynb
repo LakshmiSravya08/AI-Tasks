{
 "cells": [
  {
   "cell_type": "code",
   "execution_count": 1,
   "id": "cc8faa68",
   "metadata": {},
   "outputs": [
    {
     "name": "stdout",
     "output_type": "stream",
     "text": [
      "{(7, 49), (2, 4), (4, 16), (8, 64), (6, 36), (3, 9), (5, 25), (9, 81)}\n"
     ]
    }
   ],
   "source": [
    "list1 = [ 2, 3, 4, 5, 6, 7, 8, 9]\n",
    "list2 = [ 4, 9, 16, 25, 36, 49, 64, 81]\n",
    "set_list = []\n",
    "\n",
    "for i in range(len( list1 ) ) :\n",
    "    \n",
    "    set_list.append( tuple( [list1[i], list2[i]] ) )\n",
    "\n",
    "set_list = set( set_list )\n",
    "print( set_list )"
   ]
  },
  {
   "cell_type": "code",
   "execution_count": null,
   "id": "d1d7f104",
   "metadata": {},
   "outputs": [],
   "source": []
  }
 ],
 "metadata": {
  "kernelspec": {
   "display_name": "Python 3 (ipykernel)",
   "language": "python",
   "name": "python3"
  },
  "language_info": {
   "codemirror_mode": {
    "name": "ipython",
    "version": 3
   },
   "file_extension": ".py",
   "mimetype": "text/x-python",
   "name": "python",
   "nbconvert_exporter": "python",
   "pygments_lexer": "ipython3",
   "version": "3.9.7"
  }
 },
 "nbformat": 4,
 "nbformat_minor": 5
}
