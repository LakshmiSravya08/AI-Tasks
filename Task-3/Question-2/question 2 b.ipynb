{
 "cells": [
  {
   "cell_type": "code",
   "execution_count": 6,
   "id": "08e54288",
   "metadata": {},
   "outputs": [],
   "source": [
    "import pandas as pd"
   ]
  },
  {
   "cell_type": "code",
   "execution_count": 8,
   "id": "1c1a140d",
   "metadata": {},
   "outputs": [
    {
     "name": "stdout",
     "output_type": "stream",
     "text": [
      "   STD           City       State\n",
      "0   33         Mumbai  Maharshtra\n",
      "1   44        Chennai   TamilNadu\n",
      "2   40  Vishakapatnam   Telengana\n",
      "3   80      Bangalore   Karnataka\n"
     ]
    }
   ],
   "source": [
    "df = pd.DataFrame([[33,\"Mumbai\",\"Maharshtra\"],[44,\"Chennai\",\"TamilNadu\"],[40,\"Vishakapatnam\",\"Telengana\"],[80,\"Bangalore\",\"Karnataka\"]],columns=[\"STD\",\"City\",\"State\"],index=range(4))\n",
    "\n",
    "print(df)"
   ]
  },
  {
   "cell_type": "code",
   "execution_count": null,
   "id": "89cea72c",
   "metadata": {},
   "outputs": [],
   "source": []
  },
  {
   "cell_type": "code",
   "execution_count": null,
   "id": "55ee80aa",
   "metadata": {},
   "outputs": [],
   "source": []
  }
 ],
 "metadata": {
  "kernelspec": {
   "display_name": "Python 3 (ipykernel)",
   "language": "python",
   "name": "python3"
  },
  "language_info": {
   "codemirror_mode": {
    "name": "ipython",
    "version": 3
   },
   "file_extension": ".py",
   "mimetype": "text/x-python",
   "name": "python",
   "nbconvert_exporter": "python",
   "pygments_lexer": "ipython3",
   "version": "3.9.7"
  }
 },
 "nbformat": 4,
 "nbformat_minor": 5
}
